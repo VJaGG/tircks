{
 "cells": [
  {
   "cell_type": "markdown",
   "metadata": {},
   "source": [
    "## 语言模型  \n",
    "给定一个长度为T的序列$w_1, w_2, ... w_t$，语言模型计算该序列的概率$P(w_1, w_2, ..., w_t)$。   \n",
    "例子：\n"
   ]
  },
  {
   "cell_type": "code",
   "execution_count": 1,
   "metadata": {},
   "outputs": [],
   "source": [
    "import torch"
   ]
  },
  {
   "cell_type": "code",
   "execution_count": 6,
   "metadata": {},
   "outputs": [],
   "source": [
    "x, w_xh = torch.randn(3, 1), torch.randn(1, 4)\n",
    "h, w_hh = torch.randn(3, 4), torch.randn(4, 4)"
   ]
  },
  {
   "cell_type": "code",
   "execution_count": 7,
   "metadata": {},
   "outputs": [
    {
     "output_type": "execute_result",
     "data": {
      "text/plain": "tensor([[ 0.1889,  2.1129, -1.0467,  0.7654],\n        [-0.6608, -3.3971, -0.0475,  0.6381],\n        [ 0.1069, -1.1286,  0.7922,  0.7147]])"
     },
     "metadata": {},
     "execution_count": 7
    }
   ],
   "source": [
    "torch.matmul(x, w_xh) + torch.matmul(h, w_hh)"
   ]
  },
  {
   "cell_type": "code",
   "execution_count": 10,
   "metadata": {},
   "outputs": [
    {
     "output_type": "execute_result",
     "data": {
      "text/plain": "tensor([[ 0.1015, -0.3397, -1.3168,  0.5303,  0.3598],\n        [-0.7769, -0.6548, -0.0791, -1.6986, -0.2289],\n        [-0.7696,  0.3902,  1.2559,  0.5341, -0.1995]])"
     },
     "metadata": {},
     "execution_count": 10
    }
   ],
   "source": [
    "torch.cat((x, h), dim=1)"
   ]
  },
  {
   "cell_type": "code",
   "execution_count": 11,
   "metadata": {},
   "outputs": [
    {
     "output_type": "execute_result",
     "data": {
      "text/plain": "tensor([[ 0.0967,  1.0799,  0.6121, -1.4363],\n        [ 0.0170, -0.0126, -1.5922, -0.5048],\n        [ 0.0250, -0.8821,  1.3357, -0.3460],\n        [ 0.3188,  1.5451,  0.3230,  0.4812],\n        [ 0.1352,  0.0504, -0.1730,  0.0804]])"
     },
     "metadata": {},
     "execution_count": 11
    }
   ],
   "source": [
    "torch.cat((w_xh, w_hh))"
   ]
  },
  {
   "cell_type": "code",
   "execution_count": 12,
   "metadata": {},
   "outputs": [
    {
     "output_type": "execute_result",
     "data": {
      "text/plain": "tensor([[ 0.1889,  2.1129, -1.0467,  0.7654],\n        [-0.6608, -3.3971, -0.0475,  0.6381],\n        [ 0.1069, -1.1286,  0.7922,  0.7147]])"
     },
     "metadata": {},
     "execution_count": 12
    }
   ],
   "source": [
    "torch.matmul(torch.cat((x, h), dim=1), torch.cat((w_xh, w_hh)))"
   ]
  },
  {
   "cell_type": "markdown",
   "metadata": {},
   "source": []
  },
  {
   "cell_type": "code",
   "execution_count": 13,
   "metadata": {},
   "outputs": [],
   "source": [
    "import zipfile"
   ]
  },
  {
   "cell_type": "code",
   "execution_count": null,
   "metadata": {},
   "outputs": [],
   "source": [
    "with zipfile.ZipFile('./dara/jaychou_lyrics.txt.zip') as zin:\n",
    "    with zin.open('jaychou_lyrics.txt') as f:\n",
    "        lyrics = f.read().decode('utf-8')"
   ]
  }
 ],
 "metadata": {
  "language_info": {
   "codemirror_mode": {
    "name": "ipython",
    "version": 3
   },
   "file_extension": ".py",
   "mimetype": "text/x-python",
   "name": "python",
   "nbconvert_exporter": "python",
   "pygments_lexer": "ipython3",
   "version": "3.6.10-final"
  },
  "orig_nbformat": 2,
  "kernelspec": {
   "name": "pytorch_cpu",
   "display_name": "pytorch_cpu"
  }
 },
 "nbformat": 4,
 "nbformat_minor": 2
}