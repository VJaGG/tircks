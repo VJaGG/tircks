{
 "cells": [
  {
   "cell_type": "code",
   "execution_count": 1,
   "metadata": {},
   "outputs": [],
   "source": [
    "import torch"
   ]
  },
  {
   "cell_type": "markdown",
   "metadata": {},
   "source": [
    "在pytorch中，torch.Tensor是存储和变化数据的主要工具"
   ]
  },
  {
   "cell_type": "code",
   "execution_count": 3,
   "metadata": {},
   "outputs": [],
   "source": [
    "x = torch.empty(5, 3)"
   ]
  },
  {
   "cell_type": "code",
   "execution_count": 4,
   "metadata": {},
   "outputs": [
    {
     "output_type": "execute_result",
     "data": {
      "text/plain": "tensor([[8.0715e-34, 0.0000e+00, 8.0715e-34],\n        [0.0000e+00, 8.0716e-34, 0.0000e+00],\n        [8.0716e-34, 0.0000e+00, 8.0712e-34],\n        [0.0000e+00, 8.0712e-34, 0.0000e+00],\n        [8.0714e-34, 0.0000e+00, 8.0714e-34]])"
     },
     "metadata": {},
     "execution_count": 4
    }
   ],
   "source": [
    "x"
   ]
  },
  {
   "cell_type": "code",
   "execution_count": null,
   "metadata": {},
   "outputs": [],
   "source": []
  }
 ],
 "metadata": {
  "language_info": {
   "codemirror_mode": {
    "name": "ipython",
    "version": 3
   },
   "file_extension": ".py",
   "mimetype": "text/x-python",
   "name": "python",
   "nbconvert_exporter": "python",
   "pygments_lexer": "ipython3",
   "version": "3.6.10-final"
  },
  "orig_nbformat": 2,
  "kernelspec": {
   "name": "pytorch_cpu",
   "display_name": "pytorch_cpu"
  }
 },
 "nbformat": 4,
 "nbformat_minor": 2
}